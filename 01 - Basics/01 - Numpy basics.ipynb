{
 "cells": [
  {
   "cell_type": "markdown",
   "id": "a4823455-0cd4-45a4-a6b1-66d758e59016",
   "metadata": {
    "tags": []
   },
   "source": [
    "# Numpy basics"
   ]
  },
  {
   "cell_type": "markdown",
   "id": "4fdd002f-c030-4097-a806-cc7251f61887",
   "metadata": {
    "tags": []
   },
   "source": [
    "# First look"
   ]
  },
  {
   "cell_type": "markdown",
   "id": "9cba1ec3-6500-4e1a-92b5-585ed820d918",
   "metadata": {},
   "source": [
    "## Import"
   ]
  },
  {
   "cell_type": "code",
   "execution_count": 33,
   "id": "032df668-8c3f-4826-aaf4-54312074b2af",
   "metadata": {
    "tags": []
   },
   "outputs": [],
   "source": [
    "import numpy as np"
   ]
  },
  {
   "cell_type": "code",
   "execution_count": 34,
   "id": "c7d021ca-d444-4e37-9dee-91f38fa424ff",
   "metadata": {
    "tags": []
   },
   "outputs": [],
   "source": [
    "# initial list\n",
    "arr = [1, 2, 3, 4, 5]\n",
    "\n",
    "# convertion into a numpy array\n",
    "np_array = np.array(arr)"
   ]
  },
  {
   "cell_type": "markdown",
   "id": "496eb3a7-afc6-454a-87c7-502f7731b246",
   "metadata": {},
   "source": [
    "## Behavior"
   ]
  },
  {
   "cell_type": "code",
   "execution_count": 51,
   "id": "d7899e2b-5eb7-4015-a085-0af6a26f1dc7",
   "metadata": {
    "tags": []
   },
   "outputs": [
    {
     "name": "stdout",
     "output_type": "stream",
     "text": [
      "[1, 2, 3, 4, 5]\n",
      "[1 2 3 4 5]\n"
     ]
    }
   ],
   "source": [
    "print(arr)\n",
    "print(np_array)"
   ]
  },
  {
   "cell_type": "code",
   "execution_count": 53,
   "id": "a65cbc0f-e6e9-4b7f-8006-36b5d0ee716c",
   "metadata": {
    "tags": []
   },
   "outputs": [
    {
     "name": "stdout",
     "output_type": "stream",
     "text": [
      "[1, 2, 3, 4, 5, 1, 2, 3, 4, 5, 1, 2, 3, 4, 5]\n",
      "[ 3  6  9 12 15]\n"
     ]
    }
   ],
   "source": [
    "print(arr*3)\n",
    "print(np_array*3)"
   ]
  },
  {
   "cell_type": "code",
   "execution_count": 34,
   "id": "9ed5f1d7-3bb8-4fb1-bdd9-64d0dba3c7ad",
   "metadata": {
    "tags": []
   },
   "outputs": [
    {
     "data": {
      "text/plain": [
       "(5,)"
      ]
     },
     "execution_count": 34,
     "metadata": {},
     "output_type": "execute_result"
    }
   ],
   "source": [
    "np_array.shape"
   ]
  },
  {
   "cell_type": "code",
   "execution_count": 35,
   "id": "0b87755a-f1b6-4a59-b71b-8e5fbf1836f2",
   "metadata": {
    "tags": []
   },
   "outputs": [
    {
     "data": {
      "text/plain": [
       "array([1, 2, 3, 4, 5])"
      ]
     },
     "execution_count": 35,
     "metadata": {},
     "output_type": "execute_result"
    }
   ],
   "source": [
    "np_array"
   ]
  },
  {
   "cell_type": "code",
   "execution_count": 36,
   "id": "4f5208f3-0f50-4835-acde-2aa458503b52",
   "metadata": {
    "tags": []
   },
   "outputs": [
    {
     "data": {
      "text/plain": [
       "numpy.ndarray"
      ]
     },
     "execution_count": 36,
     "metadata": {},
     "output_type": "execute_result"
    }
   ],
   "source": [
    "type(np_array)"
   ]
  },
  {
   "cell_type": "markdown",
   "id": "0e9a7ddc-445c-406b-b5d2-a81d900ca5ce",
   "metadata": {
    "tags": []
   },
   "source": [
    "# Matrix"
   ]
  },
  {
   "cell_type": "code",
   "execution_count": 37,
   "id": "78a43ce5-cfe6-4a56-bd69-5b66b44aec66",
   "metadata": {
    "tags": []
   },
   "outputs": [
    {
     "data": {
      "text/plain": [
       "(2, 3)"
      ]
     },
     "execution_count": 37,
     "metadata": {},
     "output_type": "execute_result"
    }
   ],
   "source": [
    "# matrix\n",
    "m1 = np.array([\n",
    "    [1, 2, 3],\n",
    "    [8, 10, 12]\n",
    "])\n",
    "m1.shape # it is just a tuple"
   ]
  },
  {
   "cell_type": "code",
   "execution_count": 38,
   "id": "25199e95-681c-40eb-b16d-402545c0dcd4",
   "metadata": {
    "tags": []
   },
   "outputs": [
    {
     "data": {
      "text/plain": [
       "array([[ 1,  2,  3],\n",
       "       [ 8, 10, 12]])"
      ]
     },
     "execution_count": 38,
     "metadata": {},
     "output_type": "execute_result"
    }
   ],
   "source": [
    "m1"
   ]
  },
  {
   "cell_type": "code",
   "execution_count": 39,
   "id": "3a92b429-3fba-4537-b280-478434779931",
   "metadata": {
    "tags": []
   },
   "outputs": [
    {
     "name": "stdout",
     "output_type": "stream",
     "text": [
      "Number of rows: 2 columns: 3\n"
     ]
    }
   ],
   "source": [
    "nbr_rows = m1.shape[0]\n",
    "nbr_columns = m1.shape[1]\n",
    "print(f\"Number of rows: {nbr_rows} columns: {nbr_columns}\")"
   ]
  },
  {
   "cell_type": "code",
   "execution_count": 40,
   "id": "5dacacd9-5971-4745-829f-cf1bfbcaccf7",
   "metadata": {
    "tags": []
   },
   "outputs": [],
   "source": [
    "# unblanced_array = np.array([\n",
    "#     [1, 2, 3, 4],\n",
    "#     [10, 12],\n",
    "# ])\n",
    "# unblanced_array\n",
    "\n",
    "# >>>\n",
    "# ---------------------------------------------------------------------------\n",
    "# ValueError                                Traceback (most recent call last)\n",
    "# Cell In[24], line 1\n",
    "# ----> 1 unblanced_array = np.array([\n",
    "#       2     [1, 2, 3, 4],\n",
    "#       3     [10, 12],\n",
    "#       4 ])\n",
    "#       5 unblanced_array\n",
    "\n",
    "# ValueError: setting an array element with a sequence. The requested array has an inhomogeneous shape after 1 dimensions. The detected shape was (2,) + inhomogeneous part."
   ]
  },
  {
   "cell_type": "markdown",
   "id": "b41f484b-ec94-42d2-90b2-a476a4660586",
   "metadata": {},
   "source": [
    "## Simple column"
   ]
  },
  {
   "cell_type": "code",
   "execution_count": 41,
   "id": "3b90895d-f8e3-4ca9-9507-1f9de0888cd6",
   "metadata": {
    "tags": []
   },
   "outputs": [
    {
     "data": {
      "text/plain": [
       "array([[1],\n",
       "       [2],\n",
       "       [3]])"
      ]
     },
     "execution_count": 41,
     "metadata": {},
     "output_type": "execute_result"
    }
   ],
   "source": [
    "a3 = np.array([\n",
    "    [1],\n",
    "    [2],\n",
    "    [3]\n",
    "])\n",
    "\n",
    "a3\n"
   ]
  },
  {
   "cell_type": "markdown",
   "id": "f7ef6fdd-886f-409e-b722-d1615b90263e",
   "metadata": {
    "tags": []
   },
   "source": [
    "## Reshape"
   ]
  },
  {
   "cell_type": "markdown",
   "id": "56270e9c-2456-42ec-85b8-1c5047d72931",
   "metadata": {
    "tags": []
   },
   "source": [
    "### Reshape a matrix"
   ]
  },
  {
   "cell_type": "code",
   "execution_count": 42,
   "id": "6d66a6a3-0fdb-4016-8378-05f638d28c37",
   "metadata": {
    "tags": []
   },
   "outputs": [
    {
     "data": {
      "text/plain": [
       "array([[ 1,  2,  3],\n",
       "       [ 8, 10, 12]])"
      ]
     },
     "execution_count": 42,
     "metadata": {},
     "output_type": "execute_result"
    }
   ],
   "source": [
    "m1"
   ]
  },
  {
   "cell_type": "code",
   "execution_count": 44,
   "id": "af7f6720-a206-4aa3-b730-bc1d6f64f97c",
   "metadata": {
    "tags": []
   },
   "outputs": [
    {
     "data": {
      "text/plain": [
       "array([[ 1,  2],\n",
       "       [ 3,  8],\n",
       "       [10, 12]])"
      ]
     },
     "execution_count": 44,
     "metadata": {},
     "output_type": "execute_result"
    }
   ],
   "source": [
    "# the tuple given (r, c) must be as r * c == former_r * former_c\n",
    "# the matrix must keep the same number of cells.\n",
    "m2 = np.reshape(m1, (3,2))\n",
    "m2"
   ]
  },
  {
   "cell_type": "markdown",
   "id": "fe0c07d8-312f-4249-b844-d7399d1e9ffc",
   "metadata": {},
   "source": [
    "### from flat array to matrix"
   ]
  },
  {
   "cell_type": "code",
   "execution_count": 45,
   "id": "91429c24-82c9-4f03-92cb-05d709aeb649",
   "metadata": {
    "tags": []
   },
   "outputs": [
    {
     "data": {
      "text/plain": [
       "array([1, 2, 3])"
      ]
     },
     "execution_count": 45,
     "metadata": {},
     "output_type": "execute_result"
    }
   ],
   "source": [
    "a1 = np.array([1, 2, 3])\n",
    "a1"
   ]
  },
  {
   "cell_type": "code",
   "execution_count": 49,
   "id": "43e75bd4-fcbc-462a-b203-c1f172309ef1",
   "metadata": {
    "tags": []
   },
   "outputs": [
    {
     "data": {
      "text/plain": [
       "array([[1],\n",
       "       [2],\n",
       "       [3]])"
      ]
     },
     "execution_count": 49,
     "metadata": {},
     "output_type": "execute_result"
    }
   ],
   "source": [
    "a2 = np.reshape(a1, (a1.shape[0], 1)) # remember to keep the same number of cells\n",
    "a2"
   ]
  },
  {
   "cell_type": "markdown",
   "id": "936c5bda-d575-41d2-9be2-4ed38b430f11",
   "metadata": {},
   "source": [
    "# np.dot"
   ]
  },
  {
   "cell_type": "code",
   "execution_count": 59,
   "id": "8b2c7f4c-5140-4ff2-bd54-f04169205750",
   "metadata": {
    "tags": []
   },
   "outputs": [
    {
     "data": {
      "text/plain": [
       "15"
      ]
     },
     "execution_count": 59,
     "metadata": {},
     "output_type": "execute_result"
    }
   ],
   "source": [
    "# the aim here is to multiply the elements of 2 arrays of the same index, and add them to a result\n",
    "a1 = np.array([1, 2, 3])\n",
    "a2 = np.array([2, 2, 3])\n",
    "\n",
    "# res = 1*2 + 2*2 + 3*3\n",
    "res = np.dot(a1, a2)\n",
    "res"
   ]
  },
  {
   "cell_type": "markdown",
   "id": "ae24277c-5968-4fc8-8465-d8e0a813f60b",
   "metadata": {},
   "source": [
    "# np.random.randn"
   ]
  },
  {
   "cell_type": "code",
   "execution_count": 61,
   "id": "579fa036-2098-4f13-a160-c6e06b87ff70",
   "metadata": {
    "tags": []
   },
   "outputs": [
    {
     "data": {
      "text/plain": [
       "array([[ 1.58128515,  0.45761249, -0.35715867, -0.52331466, -1.88311158],\n",
       "       [ 1.45425883, -1.17418985, -2.16403081, -0.07290041,  0.4339024 ],\n",
       "       [ 0.40268072, -1.27421406, -0.42792923, -0.52986581, -0.1322461 ]])"
      ]
     },
     "execution_count": 61,
     "metadata": {},
     "output_type": "execute_result"
    }
   ],
   "source": [
    "a1 = np.random.randn(3, 5)\n",
    "a1"
   ]
  },
  {
   "cell_type": "code",
   "execution_count": null,
   "id": "673d6774-1b58-4bf8-897d-3f09e343579e",
   "metadata": {},
   "outputs": [],
   "source": []
  }
 ],
 "metadata": {
  "kernelspec": {
   "display_name": "Python 3 (ipykernel)",
   "language": "python",
   "name": "python3"
  },
  "language_info": {
   "codemirror_mode": {
    "name": "ipython",
    "version": 3
   },
   "file_extension": ".py",
   "mimetype": "text/x-python",
   "name": "python",
   "nbconvert_exporter": "python",
   "pygments_lexer": "ipython3",
   "version": "3.10.6"
  }
 },
 "nbformat": 4,
 "nbformat_minor": 5
}
