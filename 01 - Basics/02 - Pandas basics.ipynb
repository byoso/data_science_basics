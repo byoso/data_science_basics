{
 "cells": [
  {
   "cell_type": "markdown",
   "id": "d78ee383-4d40-40b0-8395-9a535a25ffcf",
   "metadata": {},
   "source": [
    "# Pandas basics"
   ]
  },
  {
   "cell_type": "markdown",
   "id": "c3c1c627-2f5d-4e48-a1c8-2fbca3f7b9e6",
   "metadata": {},
   "source": [
    "## Import and basics"
   ]
  },
  {
   "cell_type": "code",
   "execution_count": 14,
   "id": "e0d058b6-6545-486c-917b-db4bfb991211",
   "metadata": {
    "tags": []
   },
   "outputs": [],
   "source": [
    "import numpy as np\n",
    "import pandas as pd"
   ]
  },
  {
   "cell_type": "code",
   "execution_count": 15,
   "id": "928e7020-9d0b-4668-b3aa-23ef5e19f06d",
   "metadata": {
    "tags": []
   },
   "outputs": [
    {
     "data": {
      "text/plain": [
       "array([[ 0.35778736,  0.56078453,  1.08305124,  1.05380205, -1.37766937],\n",
       "       [-0.93782504,  0.51503527,  0.51378595,  0.51504769,  3.85273149],\n",
       "       [ 0.57089051,  1.13556564,  0.95400176,  0.65139125, -0.31526924],\n",
       "       [ 0.75896922, -0.77282521, -0.23681861, -0.48536355,  0.08187414],\n",
       "       [ 2.31465857, -1.86726519,  0.68626019, -1.61271587, -0.47193187],\n",
       "       [ 1.0889506 ,  0.06428002, -1.07774478, -0.71530371,  0.67959775],\n",
       "       [-0.73036663,  0.21645859,  0.04557184, -0.65160035,  2.14394409],\n",
       "       [ 0.63391902, -2.02514259,  0.18645431, -0.66178646,  0.85243333],\n",
       "       [-0.79252074, -0.11473644,  0.50498728,  0.86575519, -1.20029641],\n",
       "       [-0.33450124, -0.47494531, -0.65332923,  1.76545424,  0.40498171]])"
      ]
     },
     "execution_count": 15,
     "metadata": {},
     "output_type": "execute_result"
    }
   ],
   "source": [
    "# np.random.seed(42)\n",
    "a1 = np.random.randn(10,5)\n",
    "a1"
   ]
  },
  {
   "cell_type": "code",
   "execution_count": 16,
   "id": "7d32a4d2-5912-4ac0-8830-77b447ef9cf2",
   "metadata": {
    "tags": []
   },
   "outputs": [
    {
     "data": {
      "text/html": [
       "<div>\n",
       "<style scoped>\n",
       "    .dataframe tbody tr th:only-of-type {\n",
       "        vertical-align: middle;\n",
       "    }\n",
       "\n",
       "    .dataframe tbody tr th {\n",
       "        vertical-align: top;\n",
       "    }\n",
       "\n",
       "    .dataframe thead th {\n",
       "        text-align: right;\n",
       "    }\n",
       "</style>\n",
       "<table border=\"1\" class=\"dataframe\">\n",
       "  <thead>\n",
       "    <tr style=\"text-align: right;\">\n",
       "      <th></th>\n",
       "      <th>0</th>\n",
       "      <th>1</th>\n",
       "      <th>2</th>\n",
       "      <th>3</th>\n",
       "      <th>4</th>\n",
       "    </tr>\n",
       "  </thead>\n",
       "  <tbody>\n",
       "    <tr>\n",
       "      <th>0</th>\n",
       "      <td>0.357787</td>\n",
       "      <td>0.560785</td>\n",
       "      <td>1.083051</td>\n",
       "      <td>1.053802</td>\n",
       "      <td>-1.377669</td>\n",
       "    </tr>\n",
       "    <tr>\n",
       "      <th>1</th>\n",
       "      <td>-0.937825</td>\n",
       "      <td>0.515035</td>\n",
       "      <td>0.513786</td>\n",
       "      <td>0.515048</td>\n",
       "      <td>3.852731</td>\n",
       "    </tr>\n",
       "    <tr>\n",
       "      <th>2</th>\n",
       "      <td>0.570891</td>\n",
       "      <td>1.135566</td>\n",
       "      <td>0.954002</td>\n",
       "      <td>0.651391</td>\n",
       "      <td>-0.315269</td>\n",
       "    </tr>\n",
       "    <tr>\n",
       "      <th>3</th>\n",
       "      <td>0.758969</td>\n",
       "      <td>-0.772825</td>\n",
       "      <td>-0.236819</td>\n",
       "      <td>-0.485364</td>\n",
       "      <td>0.081874</td>\n",
       "    </tr>\n",
       "    <tr>\n",
       "      <th>4</th>\n",
       "      <td>2.314659</td>\n",
       "      <td>-1.867265</td>\n",
       "      <td>0.686260</td>\n",
       "      <td>-1.612716</td>\n",
       "      <td>-0.471932</td>\n",
       "    </tr>\n",
       "    <tr>\n",
       "      <th>5</th>\n",
       "      <td>1.088951</td>\n",
       "      <td>0.064280</td>\n",
       "      <td>-1.077745</td>\n",
       "      <td>-0.715304</td>\n",
       "      <td>0.679598</td>\n",
       "    </tr>\n",
       "    <tr>\n",
       "      <th>6</th>\n",
       "      <td>-0.730367</td>\n",
       "      <td>0.216459</td>\n",
       "      <td>0.045572</td>\n",
       "      <td>-0.651600</td>\n",
       "      <td>2.143944</td>\n",
       "    </tr>\n",
       "    <tr>\n",
       "      <th>7</th>\n",
       "      <td>0.633919</td>\n",
       "      <td>-2.025143</td>\n",
       "      <td>0.186454</td>\n",
       "      <td>-0.661786</td>\n",
       "      <td>0.852433</td>\n",
       "    </tr>\n",
       "    <tr>\n",
       "      <th>8</th>\n",
       "      <td>-0.792521</td>\n",
       "      <td>-0.114736</td>\n",
       "      <td>0.504987</td>\n",
       "      <td>0.865755</td>\n",
       "      <td>-1.200296</td>\n",
       "    </tr>\n",
       "    <tr>\n",
       "      <th>9</th>\n",
       "      <td>-0.334501</td>\n",
       "      <td>-0.474945</td>\n",
       "      <td>-0.653329</td>\n",
       "      <td>1.765454</td>\n",
       "      <td>0.404982</td>\n",
       "    </tr>\n",
       "  </tbody>\n",
       "</table>\n",
       "</div>"
      ],
      "text/plain": [
       "          0         1         2         3         4\n",
       "0  0.357787  0.560785  1.083051  1.053802 -1.377669\n",
       "1 -0.937825  0.515035  0.513786  0.515048  3.852731\n",
       "2  0.570891  1.135566  0.954002  0.651391 -0.315269\n",
       "3  0.758969 -0.772825 -0.236819 -0.485364  0.081874\n",
       "4  2.314659 -1.867265  0.686260 -1.612716 -0.471932\n",
       "5  1.088951  0.064280 -1.077745 -0.715304  0.679598\n",
       "6 -0.730367  0.216459  0.045572 -0.651600  2.143944\n",
       "7  0.633919 -2.025143  0.186454 -0.661786  0.852433\n",
       "8 -0.792521 -0.114736  0.504987  0.865755 -1.200296\n",
       "9 -0.334501 -0.474945 -0.653329  1.765454  0.404982"
      ]
     },
     "execution_count": 16,
     "metadata": {},
     "output_type": "execute_result"
    }
   ],
   "source": [
    "df = pd.DataFrame(a1)\n",
    "df"
   ]
  },
  {
   "cell_type": "code",
   "execution_count": 17,
   "id": "e7f741ea-f3e4-4d55-87b5-b592708fc373",
   "metadata": {
    "tags": []
   },
   "outputs": [
    {
     "data": {
      "text/plain": [
       "RangeIndex(start=0, stop=5, step=1)"
      ]
     },
     "execution_count": 17,
     "metadata": {},
     "output_type": "execute_result"
    }
   ],
   "source": [
    "df.columns"
   ]
  },
  {
   "cell_type": "code",
   "execution_count": 20,
   "id": "84f5c8fd-e9ef-4d8a-b50b-26aad062dd01",
   "metadata": {
    "tags": []
   },
   "outputs": [
    {
     "data": {
      "text/plain": [
       "Index(['col1', 'col2', 'col3', 'col4', 'col5'], dtype='object')"
      ]
     },
     "execution_count": 20,
     "metadata": {},
     "output_type": "execute_result"
    }
   ],
   "source": [
    "df.columns = [\"col1\", \"col2\", \"col3\", \"col4\", \"col5\"]\n",
    "df.columns"
   ]
  },
  {
   "cell_type": "code",
   "execution_count": 21,
   "id": "268960ff-a31b-45fb-8a3f-5087ea71226d",
   "metadata": {
    "tags": []
   },
   "outputs": [
    {
     "data": {
      "text/html": [
       "<div>\n",
       "<style scoped>\n",
       "    .dataframe tbody tr th:only-of-type {\n",
       "        vertical-align: middle;\n",
       "    }\n",
       "\n",
       "    .dataframe tbody tr th {\n",
       "        vertical-align: top;\n",
       "    }\n",
       "\n",
       "    .dataframe thead th {\n",
       "        text-align: right;\n",
       "    }\n",
       "</style>\n",
       "<table border=\"1\" class=\"dataframe\">\n",
       "  <thead>\n",
       "    <tr style=\"text-align: right;\">\n",
       "      <th></th>\n",
       "      <th>col1</th>\n",
       "      <th>col2</th>\n",
       "      <th>col3</th>\n",
       "      <th>col4</th>\n",
       "      <th>col5</th>\n",
       "    </tr>\n",
       "  </thead>\n",
       "  <tbody>\n",
       "    <tr>\n",
       "      <th>0</th>\n",
       "      <td>0.357787</td>\n",
       "      <td>0.560785</td>\n",
       "      <td>1.083051</td>\n",
       "      <td>1.053802</td>\n",
       "      <td>-1.377669</td>\n",
       "    </tr>\n",
       "    <tr>\n",
       "      <th>1</th>\n",
       "      <td>-0.937825</td>\n",
       "      <td>0.515035</td>\n",
       "      <td>0.513786</td>\n",
       "      <td>0.515048</td>\n",
       "      <td>3.852731</td>\n",
       "    </tr>\n",
       "    <tr>\n",
       "      <th>2</th>\n",
       "      <td>0.570891</td>\n",
       "      <td>1.135566</td>\n",
       "      <td>0.954002</td>\n",
       "      <td>0.651391</td>\n",
       "      <td>-0.315269</td>\n",
       "    </tr>\n",
       "    <tr>\n",
       "      <th>3</th>\n",
       "      <td>0.758969</td>\n",
       "      <td>-0.772825</td>\n",
       "      <td>-0.236819</td>\n",
       "      <td>-0.485364</td>\n",
       "      <td>0.081874</td>\n",
       "    </tr>\n",
       "    <tr>\n",
       "      <th>4</th>\n",
       "      <td>2.314659</td>\n",
       "      <td>-1.867265</td>\n",
       "      <td>0.686260</td>\n",
       "      <td>-1.612716</td>\n",
       "      <td>-0.471932</td>\n",
       "    </tr>\n",
       "    <tr>\n",
       "      <th>5</th>\n",
       "      <td>1.088951</td>\n",
       "      <td>0.064280</td>\n",
       "      <td>-1.077745</td>\n",
       "      <td>-0.715304</td>\n",
       "      <td>0.679598</td>\n",
       "    </tr>\n",
       "    <tr>\n",
       "      <th>6</th>\n",
       "      <td>-0.730367</td>\n",
       "      <td>0.216459</td>\n",
       "      <td>0.045572</td>\n",
       "      <td>-0.651600</td>\n",
       "      <td>2.143944</td>\n",
       "    </tr>\n",
       "    <tr>\n",
       "      <th>7</th>\n",
       "      <td>0.633919</td>\n",
       "      <td>-2.025143</td>\n",
       "      <td>0.186454</td>\n",
       "      <td>-0.661786</td>\n",
       "      <td>0.852433</td>\n",
       "    </tr>\n",
       "    <tr>\n",
       "      <th>8</th>\n",
       "      <td>-0.792521</td>\n",
       "      <td>-0.114736</td>\n",
       "      <td>0.504987</td>\n",
       "      <td>0.865755</td>\n",
       "      <td>-1.200296</td>\n",
       "    </tr>\n",
       "    <tr>\n",
       "      <th>9</th>\n",
       "      <td>-0.334501</td>\n",
       "      <td>-0.474945</td>\n",
       "      <td>-0.653329</td>\n",
       "      <td>1.765454</td>\n",
       "      <td>0.404982</td>\n",
       "    </tr>\n",
       "  </tbody>\n",
       "</table>\n",
       "</div>"
      ],
      "text/plain": [
       "       col1      col2      col3      col4      col5\n",
       "0  0.357787  0.560785  1.083051  1.053802 -1.377669\n",
       "1 -0.937825  0.515035  0.513786  0.515048  3.852731\n",
       "2  0.570891  1.135566  0.954002  0.651391 -0.315269\n",
       "3  0.758969 -0.772825 -0.236819 -0.485364  0.081874\n",
       "4  2.314659 -1.867265  0.686260 -1.612716 -0.471932\n",
       "5  1.088951  0.064280 -1.077745 -0.715304  0.679598\n",
       "6 -0.730367  0.216459  0.045572 -0.651600  2.143944\n",
       "7  0.633919 -2.025143  0.186454 -0.661786  0.852433\n",
       "8 -0.792521 -0.114736  0.504987  0.865755 -1.200296\n",
       "9 -0.334501 -0.474945 -0.653329  1.765454  0.404982"
      ]
     },
     "execution_count": 21,
     "metadata": {},
     "output_type": "execute_result"
    }
   ],
   "source": [
    "df"
   ]
  },
  {
   "cell_type": "code",
   "execution_count": 26,
   "id": "dea5ffa6-7115-466a-9cbf-10bfdc5675c4",
   "metadata": {
    "tags": []
   },
   "outputs": [
    {
     "data": {
      "text/plain": [
       "0    1.083051\n",
       "1    0.513786\n",
       "2    0.954002\n",
       "3   -0.236819\n",
       "4    0.686260\n",
       "5   -1.077745\n",
       "6    0.045572\n",
       "7    0.186454\n",
       "8    0.504987\n",
       "9   -0.653329\n",
       "Name: col3, dtype: float64"
      ]
     },
     "execution_count": 26,
     "metadata": {},
     "output_type": "execute_result"
    }
   ],
   "source": [
    "# Only now you can access columns like this\n",
    "col3 = df[\"col3\"]\n",
    "col3"
   ]
  },
  {
   "cell_type": "code",
   "execution_count": 27,
   "id": "33b45992-1447-4c4b-b0ad-ea894705d9bc",
   "metadata": {
    "tags": []
   },
   "outputs": [
    {
     "data": {
      "text/plain": [
       "pandas.core.series.Series"
      ]
     },
     "execution_count": 27,
     "metadata": {},
     "output_type": "execute_result"
    }
   ],
   "source": [
    "type(col3)"
   ]
  },
  {
   "cell_type": "code",
   "execution_count": 30,
   "id": "d6b61e4e-31bf-4c34-8b90-173e8c6c0651",
   "metadata": {
    "tags": []
   },
   "outputs": [
    {
     "data": {
      "text/plain": [
       "(10,)"
      ]
     },
     "execution_count": 30,
     "metadata": {},
     "output_type": "execute_result"
    }
   ],
   "source": [
    "col3.shape"
   ]
  },
  {
   "cell_type": "code",
   "execution_count": 32,
   "id": "27b37430-1b0b-4e1b-8209-a08b7b7af3cc",
   "metadata": {
    "tags": []
   },
   "outputs": [
    {
     "data": {
      "text/plain": [
       "count    10.000000\n",
       "mean      0.200622\n",
       "std       0.695371\n",
       "min      -1.077745\n",
       "25%      -0.166221\n",
       "50%       0.345721\n",
       "75%       0.643142\n",
       "max       1.083051\n",
       "Name: col3, dtype: float64"
      ]
     },
     "execution_count": 32,
     "metadata": {},
     "output_type": "execute_result"
    }
   ],
   "source": [
    "col3.describe()"
   ]
  },
  {
   "cell_type": "code",
   "execution_count": 38,
   "id": "56b796f3-ecee-4c90-a6d3-4e17554e7097",
   "metadata": {
    "tags": []
   },
   "outputs": [
    {
     "data": {
      "text/html": [
       "<div>\n",
       "<style scoped>\n",
       "    .dataframe tbody tr th:only-of-type {\n",
       "        vertical-align: middle;\n",
       "    }\n",
       "\n",
       "    .dataframe tbody tr th {\n",
       "        vertical-align: top;\n",
       "    }\n",
       "\n",
       "    .dataframe thead th {\n",
       "        text-align: right;\n",
       "    }\n",
       "</style>\n",
       "<table border=\"1\" class=\"dataframe\">\n",
       "  <thead>\n",
       "    <tr style=\"text-align: right;\">\n",
       "      <th></th>\n",
       "      <th>col3</th>\n",
       "      <th>col1</th>\n",
       "    </tr>\n",
       "  </thead>\n",
       "  <tbody>\n",
       "    <tr>\n",
       "      <th>0</th>\n",
       "      <td>1.083051</td>\n",
       "      <td>0.357787</td>\n",
       "    </tr>\n",
       "    <tr>\n",
       "      <th>1</th>\n",
       "      <td>0.513786</td>\n",
       "      <td>-0.937825</td>\n",
       "    </tr>\n",
       "    <tr>\n",
       "      <th>2</th>\n",
       "      <td>0.954002</td>\n",
       "      <td>0.570891</td>\n",
       "    </tr>\n",
       "    <tr>\n",
       "      <th>3</th>\n",
       "      <td>-0.236819</td>\n",
       "      <td>0.758969</td>\n",
       "    </tr>\n",
       "    <tr>\n",
       "      <th>4</th>\n",
       "      <td>0.686260</td>\n",
       "      <td>2.314659</td>\n",
       "    </tr>\n",
       "    <tr>\n",
       "      <th>5</th>\n",
       "      <td>-1.077745</td>\n",
       "      <td>1.088951</td>\n",
       "    </tr>\n",
       "    <tr>\n",
       "      <th>6</th>\n",
       "      <td>0.045572</td>\n",
       "      <td>-0.730367</td>\n",
       "    </tr>\n",
       "    <tr>\n",
       "      <th>7</th>\n",
       "      <td>0.186454</td>\n",
       "      <td>0.633919</td>\n",
       "    </tr>\n",
       "    <tr>\n",
       "      <th>8</th>\n",
       "      <td>0.504987</td>\n",
       "      <td>-0.792521</td>\n",
       "    </tr>\n",
       "    <tr>\n",
       "      <th>9</th>\n",
       "      <td>-0.653329</td>\n",
       "      <td>-0.334501</td>\n",
       "    </tr>\n",
       "  </tbody>\n",
       "</table>\n",
       "</div>"
      ],
      "text/plain": [
       "       col3      col1\n",
       "0  1.083051  0.357787\n",
       "1  0.513786 -0.937825\n",
       "2  0.954002  0.570891\n",
       "3 -0.236819  0.758969\n",
       "4  0.686260  2.314659\n",
       "5 -1.077745  1.088951\n",
       "6  0.045572 -0.730367\n",
       "7  0.186454  0.633919\n",
       "8  0.504987 -0.792521\n",
       "9 -0.653329 -0.334501"
      ]
     },
     "execution_count": 38,
     "metadata": {},
     "output_type": "execute_result"
    }
   ],
   "source": [
    "join_cols = df[[\"col3\",\"col1\"]]\n",
    "join_cols"
   ]
  },
  {
   "cell_type": "code",
   "execution_count": 40,
   "id": "7ed88771-a8a1-4cf2-8c7e-5ad05ca83a0a",
   "metadata": {
    "tags": []
   },
   "outputs": [
    {
     "data": {
      "text/plain": [
       "0    1.643836\n",
       "1    1.028821\n",
       "2    2.089567\n",
       "3   -1.009644\n",
       "4   -1.181005\n",
       "5   -1.013465\n",
       "6    0.262030\n",
       "7   -1.838688\n",
       "8    0.390251\n",
       "9   -1.128275\n",
       "dtype: float64"
      ]
     },
     "execution_count": 40,
     "metadata": {},
     "output_type": "execute_result"
    }
   ],
   "source": [
    "addition = df[\"col2\"] + df[\"col3\"]\n",
    "addition"
   ]
  },
  {
   "cell_type": "code",
   "execution_count": 61,
   "id": "83638b2a-0418-438e-9545-22c820d66143",
   "metadata": {
    "tags": []
   },
   "outputs": [
    {
     "data": {
      "text/html": [
       "<div>\n",
       "<style scoped>\n",
       "    .dataframe tbody tr th:only-of-type {\n",
       "        vertical-align: middle;\n",
       "    }\n",
       "\n",
       "    .dataframe tbody tr th {\n",
       "        vertical-align: top;\n",
       "    }\n",
       "\n",
       "    .dataframe thead th {\n",
       "        text-align: right;\n",
       "    }\n",
       "</style>\n",
       "<table border=\"1\" class=\"dataframe\">\n",
       "  <thead>\n",
       "    <tr style=\"text-align: right;\">\n",
       "      <th></th>\n",
       "      <th>Request</th>\n",
       "      <th>Factor</th>\n",
       "      <th>Impact</th>\n",
       "    </tr>\n",
       "  </thead>\n",
       "  <tbody>\n",
       "    <tr>\n",
       "      <th>0</th>\n",
       "      <td>no</td>\n",
       "      <td>factor1</td>\n",
       "      <td>0</td>\n",
       "    </tr>\n",
       "    <tr>\n",
       "      <th>1</th>\n",
       "      <td>yes</td>\n",
       "      <td>factor2</td>\n",
       "      <td>2</td>\n",
       "    </tr>\n",
       "    <tr>\n",
       "      <th>2</th>\n",
       "      <td>no</td>\n",
       "      <td>factor3</td>\n",
       "      <td>0</td>\n",
       "    </tr>\n",
       "    <tr>\n",
       "      <th>3</th>\n",
       "      <td>no</td>\n",
       "      <td>factor4</td>\n",
       "      <td>2</td>\n",
       "    </tr>\n",
       "    <tr>\n",
       "      <th>4</th>\n",
       "      <td>yes</td>\n",
       "      <td>factor1</td>\n",
       "      <td>1</td>\n",
       "    </tr>\n",
       "    <tr>\n",
       "      <th>5</th>\n",
       "      <td>no</td>\n",
       "      <td>factor2</td>\n",
       "      <td>3</td>\n",
       "    </tr>\n",
       "    <tr>\n",
       "      <th>6</th>\n",
       "      <td>yes</td>\n",
       "      <td>factor5</td>\n",
       "      <td>3</td>\n",
       "    </tr>\n",
       "    <tr>\n",
       "      <th>7</th>\n",
       "      <td>no</td>\n",
       "      <td>factor1</td>\n",
       "      <td>0</td>\n",
       "    </tr>\n",
       "    <tr>\n",
       "      <th>8</th>\n",
       "      <td>yes</td>\n",
       "      <td>factor5</td>\n",
       "      <td>3</td>\n",
       "    </tr>\n",
       "    <tr>\n",
       "      <th>9</th>\n",
       "      <td>yes</td>\n",
       "      <td>factor1</td>\n",
       "      <td>2</td>\n",
       "    </tr>\n",
       "    <tr>\n",
       "      <th>10</th>\n",
       "      <td>yes</td>\n",
       "      <td>factor5</td>\n",
       "      <td>1</td>\n",
       "    </tr>\n",
       "    <tr>\n",
       "      <th>11</th>\n",
       "      <td>no</td>\n",
       "      <td>factor1</td>\n",
       "      <td>2</td>\n",
       "    </tr>\n",
       "    <tr>\n",
       "      <th>12</th>\n",
       "      <td>no</td>\n",
       "      <td>factor2</td>\n",
       "      <td>0</td>\n",
       "    </tr>\n",
       "    <tr>\n",
       "      <th>13</th>\n",
       "      <td>yes</td>\n",
       "      <td>factor1</td>\n",
       "      <td>1</td>\n",
       "    </tr>\n",
       "    <tr>\n",
       "      <th>14</th>\n",
       "      <td>no</td>\n",
       "      <td>factor3</td>\n",
       "      <td>2</td>\n",
       "    </tr>\n",
       "  </tbody>\n",
       "</table>\n",
       "</div>"
      ],
      "text/plain": [
       "   Request   Factor  Impact\n",
       "0       no  factor1       0\n",
       "1      yes  factor2       2\n",
       "2       no  factor3       0\n",
       "3       no  factor4       2\n",
       "4      yes  factor1       1\n",
       "5       no  factor2       3\n",
       "6      yes  factor5       3\n",
       "7       no  factor1       0\n",
       "8      yes  factor5       3\n",
       "9      yes  factor1       2\n",
       "10     yes  factor5       1\n",
       "11      no  factor1       2\n",
       "12      no  factor2       0\n",
       "13     yes  factor1       1\n",
       "14      no  factor3       2"
      ]
     },
     "execution_count": 61,
     "metadata": {},
     "output_type": "execute_result"
    }
   ],
   "source": [
    "# come up with some data\n",
    "m1 = np.array([[\"no\",\"factor1\",0],\n",
    "               [\"yes\",\"factor2\",2], \n",
    "               [\"no\",\"factor3\",0], \n",
    "               [\"no\",\"factor4\",2],\n",
    "               [\"yes\",\"factor1\", 1], \n",
    "               [\"no\",\"factor2\",3],\n",
    "               [\"yes\",\"factor5\",3],\n",
    "               [\"no\",\"factor1\",0],\n",
    "               [\"yes\",\"factor5\",3],\n",
    "               [\"yes\",\"factor1\",2],\n",
    "               [\"yes\",\"factor5\",1],\n",
    "               [\"no\",\"factor1\",2],\n",
    "               [\"no\",\"factor2\",0],\n",
    "               [\"yes\",\"factor1\",1],\n",
    "               [\"no\",\"factor3\",2]\n",
    "              ])\n",
    "\n",
    "# create a dataframe with columns\n",
    "df1 = pd.DataFrame(m1, columns=[\"Request\",\"Factor\", \"Impact\"])\n",
    "df1[\"Impact\"] = df1[\"Impact\"].astype(int)\n",
    "df1"
   ]
  },
  {
   "cell_type": "code",
   "execution_count": 80,
   "id": "e65c536e-aa27-4184-ad72-b872646df06f",
   "metadata": {
    "tags": []
   },
   "outputs": [
    {
     "data": {
      "text/plain": [
       "array([[9.6652531 ],\n",
       "       [9.93562961],\n",
       "       [0.34927409],\n",
       "       [3.26648887],\n",
       "       [3.81741464],\n",
       "       [0.83238259],\n",
       "       [6.92452281],\n",
       "       [6.00491442],\n",
       "       [4.00215506],\n",
       "       [6.89558393],\n",
       "       [7.0849407 ],\n",
       "       [2.46323056],\n",
       "       [6.02827272],\n",
       "       [6.12518859],\n",
       "       [0.38666107]])"
      ]
     },
     "execution_count": 80,
     "metadata": {},
     "output_type": "execute_result"
    }
   ],
   "source": [
    "np.random.seed()\n",
    "a1 = np.random.uniform(\n",
    "    low=0,\n",
    "    high=10,\n",
    "    size=(m1.shape[0], 1)\n",
    ")\n",
    "a1"
   ]
  },
  {
   "cell_type": "code",
   "execution_count": 81,
   "id": "7f8e397e-dbce-4e5f-9863-46f1df2e0ba6",
   "metadata": {
    "tags": []
   },
   "outputs": [
    {
     "data": {
      "text/html": [
       "<div>\n",
       "<style scoped>\n",
       "    .dataframe tbody tr th:only-of-type {\n",
       "        vertical-align: middle;\n",
       "    }\n",
       "\n",
       "    .dataframe tbody tr th {\n",
       "        vertical-align: top;\n",
       "    }\n",
       "\n",
       "    .dataframe thead th {\n",
       "        text-align: right;\n",
       "    }\n",
       "</style>\n",
       "<table border=\"1\" class=\"dataframe\">\n",
       "  <thead>\n",
       "    <tr style=\"text-align: right;\">\n",
       "      <th></th>\n",
       "      <th>Request</th>\n",
       "      <th>Factor</th>\n",
       "      <th>Impact</th>\n",
       "      <th>new_column</th>\n",
       "    </tr>\n",
       "  </thead>\n",
       "  <tbody>\n",
       "    <tr>\n",
       "      <th>0</th>\n",
       "      <td>no</td>\n",
       "      <td>factor1</td>\n",
       "      <td>0</td>\n",
       "      <td>9.665253</td>\n",
       "    </tr>\n",
       "    <tr>\n",
       "      <th>1</th>\n",
       "      <td>yes</td>\n",
       "      <td>factor2</td>\n",
       "      <td>2</td>\n",
       "      <td>9.935630</td>\n",
       "    </tr>\n",
       "    <tr>\n",
       "      <th>2</th>\n",
       "      <td>no</td>\n",
       "      <td>factor3</td>\n",
       "      <td>0</td>\n",
       "      <td>0.349274</td>\n",
       "    </tr>\n",
       "    <tr>\n",
       "      <th>3</th>\n",
       "      <td>no</td>\n",
       "      <td>factor4</td>\n",
       "      <td>2</td>\n",
       "      <td>3.266489</td>\n",
       "    </tr>\n",
       "    <tr>\n",
       "      <th>4</th>\n",
       "      <td>yes</td>\n",
       "      <td>factor1</td>\n",
       "      <td>1</td>\n",
       "      <td>3.817415</td>\n",
       "    </tr>\n",
       "    <tr>\n",
       "      <th>5</th>\n",
       "      <td>no</td>\n",
       "      <td>factor2</td>\n",
       "      <td>3</td>\n",
       "      <td>0.832383</td>\n",
       "    </tr>\n",
       "    <tr>\n",
       "      <th>6</th>\n",
       "      <td>yes</td>\n",
       "      <td>factor5</td>\n",
       "      <td>3</td>\n",
       "      <td>6.924523</td>\n",
       "    </tr>\n",
       "    <tr>\n",
       "      <th>7</th>\n",
       "      <td>no</td>\n",
       "      <td>factor1</td>\n",
       "      <td>0</td>\n",
       "      <td>6.004914</td>\n",
       "    </tr>\n",
       "    <tr>\n",
       "      <th>8</th>\n",
       "      <td>yes</td>\n",
       "      <td>factor5</td>\n",
       "      <td>3</td>\n",
       "      <td>4.002155</td>\n",
       "    </tr>\n",
       "    <tr>\n",
       "      <th>9</th>\n",
       "      <td>yes</td>\n",
       "      <td>factor1</td>\n",
       "      <td>2</td>\n",
       "      <td>6.895584</td>\n",
       "    </tr>\n",
       "    <tr>\n",
       "      <th>10</th>\n",
       "      <td>yes</td>\n",
       "      <td>factor5</td>\n",
       "      <td>1</td>\n",
       "      <td>7.084941</td>\n",
       "    </tr>\n",
       "    <tr>\n",
       "      <th>11</th>\n",
       "      <td>no</td>\n",
       "      <td>factor1</td>\n",
       "      <td>2</td>\n",
       "      <td>2.463231</td>\n",
       "    </tr>\n",
       "    <tr>\n",
       "      <th>12</th>\n",
       "      <td>no</td>\n",
       "      <td>factor2</td>\n",
       "      <td>0</td>\n",
       "      <td>6.028273</td>\n",
       "    </tr>\n",
       "    <tr>\n",
       "      <th>13</th>\n",
       "      <td>yes</td>\n",
       "      <td>factor1</td>\n",
       "      <td>1</td>\n",
       "      <td>6.125189</td>\n",
       "    </tr>\n",
       "    <tr>\n",
       "      <th>14</th>\n",
       "      <td>no</td>\n",
       "      <td>factor3</td>\n",
       "      <td>2</td>\n",
       "      <td>0.386661</td>\n",
       "    </tr>\n",
       "  </tbody>\n",
       "</table>\n",
       "</div>"
      ],
      "text/plain": [
       "   Request   Factor  Impact  new_column\n",
       "0       no  factor1       0    9.665253\n",
       "1      yes  factor2       2    9.935630\n",
       "2       no  factor3       0    0.349274\n",
       "3       no  factor4       2    3.266489\n",
       "4      yes  factor1       1    3.817415\n",
       "5       no  factor2       3    0.832383\n",
       "6      yes  factor5       3    6.924523\n",
       "7       no  factor1       0    6.004914\n",
       "8      yes  factor5       3    4.002155\n",
       "9      yes  factor1       2    6.895584\n",
       "10     yes  factor5       1    7.084941\n",
       "11      no  factor1       2    2.463231\n",
       "12      no  factor2       0    6.028273\n",
       "13     yes  factor1       1    6.125189\n",
       "14      no  factor3       2    0.386661"
      ]
     },
     "execution_count": 81,
     "metadata": {},
     "output_type": "execute_result"
    }
   ],
   "source": [
    "df2[\"new_column\"] = a1\n",
    "df2"
   ]
  },
  {
   "cell_type": "code",
   "execution_count": 85,
   "id": "65ccc06b-1b44-4e5b-af9f-5c52e8e4d210",
   "metadata": {
    "tags": []
   },
   "outputs": [
    {
     "data": {
      "text/plain": [
       "0     False\n",
       "1      True\n",
       "2     False\n",
       "3     False\n",
       "4      True\n",
       "5     False\n",
       "6      True\n",
       "7     False\n",
       "8      True\n",
       "9      True\n",
       "10     True\n",
       "11    False\n",
       "12    False\n",
       "13     True\n",
       "14    False\n",
       "Name: Request, dtype: bool"
      ]
     },
     "execution_count": 85,
     "metadata": {},
     "output_type": "execute_result"
    }
   ],
   "source": [
    "condition = df2[\"Request\"] == \"yes\"\n",
    "condition"
   ]
  },
  {
   "cell_type": "code",
   "execution_count": 86,
   "id": "c243ecd9-78ff-4b21-b489-133e66226770",
   "metadata": {
    "tags": []
   },
   "outputs": [
    {
     "data": {
      "text/html": [
       "<div>\n",
       "<style scoped>\n",
       "    .dataframe tbody tr th:only-of-type {\n",
       "        vertical-align: middle;\n",
       "    }\n",
       "\n",
       "    .dataframe tbody tr th {\n",
       "        vertical-align: top;\n",
       "    }\n",
       "\n",
       "    .dataframe thead th {\n",
       "        text-align: right;\n",
       "    }\n",
       "</style>\n",
       "<table border=\"1\" class=\"dataframe\">\n",
       "  <thead>\n",
       "    <tr style=\"text-align: right;\">\n",
       "      <th></th>\n",
       "      <th>Request</th>\n",
       "      <th>Factor</th>\n",
       "      <th>Impact</th>\n",
       "      <th>new_column</th>\n",
       "    </tr>\n",
       "  </thead>\n",
       "  <tbody>\n",
       "    <tr>\n",
       "      <th>1</th>\n",
       "      <td>yes</td>\n",
       "      <td>factor2</td>\n",
       "      <td>2</td>\n",
       "      <td>9.935630</td>\n",
       "    </tr>\n",
       "    <tr>\n",
       "      <th>4</th>\n",
       "      <td>yes</td>\n",
       "      <td>factor1</td>\n",
       "      <td>1</td>\n",
       "      <td>3.817415</td>\n",
       "    </tr>\n",
       "    <tr>\n",
       "      <th>6</th>\n",
       "      <td>yes</td>\n",
       "      <td>factor5</td>\n",
       "      <td>3</td>\n",
       "      <td>6.924523</td>\n",
       "    </tr>\n",
       "    <tr>\n",
       "      <th>8</th>\n",
       "      <td>yes</td>\n",
       "      <td>factor5</td>\n",
       "      <td>3</td>\n",
       "      <td>4.002155</td>\n",
       "    </tr>\n",
       "    <tr>\n",
       "      <th>9</th>\n",
       "      <td>yes</td>\n",
       "      <td>factor1</td>\n",
       "      <td>2</td>\n",
       "      <td>6.895584</td>\n",
       "    </tr>\n",
       "    <tr>\n",
       "      <th>10</th>\n",
       "      <td>yes</td>\n",
       "      <td>factor5</td>\n",
       "      <td>1</td>\n",
       "      <td>7.084941</td>\n",
       "    </tr>\n",
       "    <tr>\n",
       "      <th>13</th>\n",
       "      <td>yes</td>\n",
       "      <td>factor1</td>\n",
       "      <td>1</td>\n",
       "      <td>6.125189</td>\n",
       "    </tr>\n",
       "  </tbody>\n",
       "</table>\n",
       "</div>"
      ],
      "text/plain": [
       "   Request   Factor  Impact  new_column\n",
       "1      yes  factor2       2    9.935630\n",
       "4      yes  factor1       1    3.817415\n",
       "6      yes  factor5       3    6.924523\n",
       "8      yes  factor5       3    4.002155\n",
       "9      yes  factor1       2    6.895584\n",
       "10     yes  factor5       1    7.084941\n",
       "13     yes  factor1       1    6.125189"
      ]
     },
     "execution_count": 86,
     "metadata": {},
     "output_type": "execute_result"
    }
   ],
   "source": [
    "filtered = df2[condition]\n",
    "filtered"
   ]
  },
  {
   "cell_type": "code",
   "execution_count": null,
   "id": "bf9ca18d-10e5-4e4f-855c-84c3c5de99fa",
   "metadata": {},
   "outputs": [],
   "source": []
  }
 ],
 "metadata": {
  "kernelspec": {
   "display_name": "Python 3 (ipykernel)",
   "language": "python",
   "name": "python3"
  },
  "language_info": {
   "codemirror_mode": {
    "name": "ipython",
    "version": 3
   },
   "file_extension": ".py",
   "mimetype": "text/x-python",
   "name": "python",
   "nbconvert_exporter": "python",
   "pygments_lexer": "ipython3",
   "version": "3.10.6"
  }
 },
 "nbformat": 4,
 "nbformat_minor": 5
}
