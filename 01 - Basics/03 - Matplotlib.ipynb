{
 "cells": [
  {
   "cell_type": "markdown",
   "id": "6ce50548-be30-4bc0-bae0-e79efa797623",
   "metadata": {},
   "source": [
    "# Matplotlib"
   ]
  },
  {
   "cell_type": "markdown",
   "id": "1f6afaa0-894d-445d-954d-01f958318b73",
   "metadata": {},
   "source": [
    "## Installation\n",
    "\n",
    "```sh\n",
    "pip install matplotlib\n",
    "```"
   ]
  },
  {
   "cell_type": "markdown",
   "id": "e89f7186-5fb4-41b6-aa1e-2f6f171b8bc7",
   "metadata": {},
   "source": [
    "## Set up"
   ]
  },
  {
   "cell_type": "code",
   "execution_count": 5,
   "id": "17994783-83d5-44e7-8884-deea7523baef",
   "metadata": {
    "tags": []
   },
   "outputs": [
    {
     "data": {
      "text/html": [
       "<div>\n",
       "<style scoped>\n",
       "    .dataframe tbody tr th:only-of-type {\n",
       "        vertical-align: middle;\n",
       "    }\n",
       "\n",
       "    .dataframe tbody tr th {\n",
       "        vertical-align: top;\n",
       "    }\n",
       "\n",
       "    .dataframe thead th {\n",
       "        text-align: right;\n",
       "    }\n",
       "</style>\n",
       "<table border=\"1\" class=\"dataframe\">\n",
       "  <thead>\n",
       "    <tr style=\"text-align: right;\">\n",
       "      <th></th>\n",
       "      <th>Request</th>\n",
       "      <th>Factor</th>\n",
       "      <th>Impact</th>\n",
       "      <th>new_column</th>\n",
       "    </tr>\n",
       "  </thead>\n",
       "  <tbody>\n",
       "    <tr>\n",
       "      <th>0</th>\n",
       "      <td>no</td>\n",
       "      <td>factor1</td>\n",
       "      <td>0</td>\n",
       "      <td>7.801278</td>\n",
       "    </tr>\n",
       "    <tr>\n",
       "      <th>1</th>\n",
       "      <td>yes</td>\n",
       "      <td>factor2</td>\n",
       "      <td>2</td>\n",
       "      <td>8.870931</td>\n",
       "    </tr>\n",
       "    <tr>\n",
       "      <th>2</th>\n",
       "      <td>no</td>\n",
       "      <td>factor3</td>\n",
       "      <td>0</td>\n",
       "      <td>7.618386</td>\n",
       "    </tr>\n",
       "    <tr>\n",
       "      <th>3</th>\n",
       "      <td>no</td>\n",
       "      <td>factor4</td>\n",
       "      <td>2</td>\n",
       "      <td>5.022387</td>\n",
       "    </tr>\n",
       "    <tr>\n",
       "      <th>4</th>\n",
       "      <td>yes</td>\n",
       "      <td>factor1</td>\n",
       "      <td>1</td>\n",
       "      <td>6.959547</td>\n",
       "    </tr>\n",
       "    <tr>\n",
       "      <th>5</th>\n",
       "      <td>no</td>\n",
       "      <td>factor2</td>\n",
       "      <td>3</td>\n",
       "      <td>4.579047</td>\n",
       "    </tr>\n",
       "    <tr>\n",
       "      <th>6</th>\n",
       "      <td>yes</td>\n",
       "      <td>factor5</td>\n",
       "      <td>3</td>\n",
       "      <td>5.268063</td>\n",
       "    </tr>\n",
       "    <tr>\n",
       "      <th>7</th>\n",
       "      <td>no</td>\n",
       "      <td>factor1</td>\n",
       "      <td>0</td>\n",
       "      <td>3.314110</td>\n",
       "    </tr>\n",
       "    <tr>\n",
       "      <th>8</th>\n",
       "      <td>yes</td>\n",
       "      <td>factor5</td>\n",
       "      <td>3</td>\n",
       "      <td>7.544449</td>\n",
       "    </tr>\n",
       "    <tr>\n",
       "      <th>9</th>\n",
       "      <td>yes</td>\n",
       "      <td>factor1</td>\n",
       "      <td>2</td>\n",
       "      <td>2.006963</td>\n",
       "    </tr>\n",
       "    <tr>\n",
       "      <th>10</th>\n",
       "      <td>yes</td>\n",
       "      <td>factor5</td>\n",
       "      <td>1</td>\n",
       "      <td>9.286316</td>\n",
       "    </tr>\n",
       "    <tr>\n",
       "      <th>11</th>\n",
       "      <td>no</td>\n",
       "      <td>factor1</td>\n",
       "      <td>2</td>\n",
       "      <td>8.111217</td>\n",
       "    </tr>\n",
       "    <tr>\n",
       "      <th>12</th>\n",
       "      <td>no</td>\n",
       "      <td>factor2</td>\n",
       "      <td>0</td>\n",
       "      <td>5.464846</td>\n",
       "    </tr>\n",
       "    <tr>\n",
       "      <th>13</th>\n",
       "      <td>yes</td>\n",
       "      <td>factor1</td>\n",
       "      <td>1</td>\n",
       "      <td>4.442960</td>\n",
       "    </tr>\n",
       "    <tr>\n",
       "      <th>14</th>\n",
       "      <td>no</td>\n",
       "      <td>factor3</td>\n",
       "      <td>2</td>\n",
       "      <td>7.759814</td>\n",
       "    </tr>\n",
       "  </tbody>\n",
       "</table>\n",
       "</div>"
      ],
      "text/plain": [
       "   Request   Factor  Impact  new_column\n",
       "0       no  factor1       0    7.801278\n",
       "1      yes  factor2       2    8.870931\n",
       "2       no  factor3       0    7.618386\n",
       "3       no  factor4       2    5.022387\n",
       "4      yes  factor1       1    6.959547\n",
       "5       no  factor2       3    4.579047\n",
       "6      yes  factor5       3    5.268063\n",
       "7       no  factor1       0    3.314110\n",
       "8      yes  factor5       3    7.544449\n",
       "9      yes  factor1       2    2.006963\n",
       "10     yes  factor5       1    9.286316\n",
       "11      no  factor1       2    8.111217\n",
       "12      no  factor2       0    5.464846\n",
       "13     yes  factor1       1    4.442960\n",
       "14      no  factor3       2    7.759814"
      ]
     },
     "execution_count": 5,
     "metadata": {},
     "output_type": "execute_result"
    }
   ],
   "source": [
    "import matplotlib as mpl\n",
    "import matplotlib.pyplot as plt\n",
    "import pandas as pd\n",
    "import numpy as np\n",
    "\n",
    "# let's build some datas for the example\n",
    "\n",
    "m1 = np.array([\n",
    "    [\"no\",\"factor1\",0],\n",
    "    [\"yes\",\"factor2\",2],\n",
    "    [\"no\",\"factor3\",0], \n",
    "    [\"no\",\"factor4\",2],\n",
    "    [\"yes\",\"factor1\", 1], \n",
    "    [\"no\",\"factor2\",3],\n",
    "    [\"yes\",\"factor5\",3],\n",
    "    [\"no\",\"factor1\",0],\n",
    "    [\"yes\",\"factor5\",3],\n",
    "    [\"yes\",\"factor1\",2],\n",
    "    [\"yes\",\"factor5\",1],\n",
    "    [\"no\",\"factor1\",2],\n",
    "    [\"no\",\"factor2\",0],\n",
    "    [\"yes\",\"factor1\",1],\n",
    "    [\"no\",\"factor3\",2]\n",
    "])\n",
    "\n",
    "# create a dataframe with columns\n",
    "df1 = pd.DataFrame(m1, columns=[\"Request\",\"Factor\", \"Impact\"])\n",
    "df1[\"Impact\"] = df1[\"Impact\"].astype(int)\n",
    "\n",
    "a1 = np.random.uniform(\n",
    "    low=0,\n",
    "    high=10,\n",
    "    size=(m1.shape[0], 1)\n",
    ")\n",
    "df1[\"new_column\"] = a1\n",
    "df1\n",
    "\n"
   ]
  },
  {
   "cell_type": "markdown",
   "id": "994f2ae4-7e60-4b41-81f9-4a9b648dd93e",
   "metadata": {},
   "source": [
    "## First pyplot"
   ]
  },
  {
   "cell_type": "code",
   "execution_count": 18,
   "id": "78505008-3674-40f6-986d-c3b44c0abdb6",
   "metadata": {
    "tags": []
   },
   "outputs": [
    {
     "data": {
      "text/plain": [
       "Text(0, 0.5, 'Consumption_index')"
      ]
     },
     "execution_count": 18,
     "metadata": {},
     "output_type": "execute_result"
    },
    {
     "data": {
      "image/png": "[encoded data removed]",
      "text/plain": [
       "<Figure size 1500x1000 with 1 Axes>"
      ]
     },
     "metadata": {},
     "output_type": "display_data"
    }
   ],
   "source": [
    "# specify figure to plot on \n",
    "\n",
    "plt.figure(figsize=(15,10)) \n",
    "\n",
    "# Obtain x and y arrays\n",
    "x = df1[\"Impact\"] \n",
    "y = df1[\"new_column\"]\n",
    "\n",
    "# plot the scatterplot  \n",
    "plt.scatter(x,y, color=\"blue\", marker=\"x\") \n",
    "\n",
    "# add title and labels  \n",
    "plt.title(\"Consumption index vs Impact\") \n",
    "plt.xlabel(\"Impact\") \n",
    "plt.ylabel(\"Consumption_index\")"
   ]
  },
  {
   "cell_type": "code",
   "execution_count": null,
   "id": "3f78284d-9575-496b-85ff-cab2dc858290",
   "metadata": {},
   "outputs": [],
   "source": []
  }
 ],
 "metadata": {
  "kernelspec": {
   "display_name": "Python 3 (ipykernel)",
   "language": "python",
   "name": "python3"
  },
  "language_info": {
   "codemirror_mode": {
    "name": "ipython",
    "version": 3
   },
   "file_extension": ".py",
   "mimetype": "text/x-python",
   "name": "python",
   "nbconvert_exporter": "python",
   "pygments_lexer": "ipython3",
   "version": "3.10.6"
  }
 },
 "nbformat": 4,
 "nbformat_minor": 5
}
